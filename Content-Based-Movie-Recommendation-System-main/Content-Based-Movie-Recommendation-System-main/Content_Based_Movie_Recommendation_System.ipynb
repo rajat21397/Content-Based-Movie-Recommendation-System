{
  "nbformat": 4,
  "nbformat_minor": 0,
  "metadata": {
    "colab": {
      "name": "Content Based Movie Recommendation System.ipynb",
      "provenance": [],
      "collapsed_sections": []
    },
    "kernelspec": {
      "display_name": "Python 3",
      "name": "python3"
    },
    "language_info": {
      "name": "python"
    },
    "accelerator": "TPU"
  },
  "cells": [
    {
      "cell_type": "markdown",
      "metadata": {
        "id": "eH2Q8oQlKLol"
      },
      "source": [
        "**Content based Movie Recommendation System for Netflix OTT Platform**"
      ]
    },
    {
      "cell_type": "code",
      "metadata": {
        "id": "-jyL-Alo_Kh0",
        "colab": {
          "base_uri": "https://localhost:8080/"
        },
        "outputId": "071fff8c-a0cf-4ab7-e27f-da8717810090"
      },
      "source": [
        "#import the required libraries for the uploading data\n",
        "import pandas as pd\n",
        "import numpy as np\n",
        "import matplotlib.pyplot as plt\n",
        "import nltk \n",
        "import nltk\n",
        "nltk.download('punkt')\n",
        "nltk.download('wordnet')\n",
        "nltk.download('stopwords')\n",
        "from nltk.stem import WordNetLemmatizer\n",
        "from nltk.corpus import stopwords\n",
        "%matplotlib inline"
      ],
      "execution_count": 110,
      "outputs": [
        {
          "output_type": "stream",
          "text": [
            "[nltk_data] Downloading package punkt to /root/nltk_data...\n",
            "[nltk_data]   Package punkt is already up-to-date!\n",
            "[nltk_data] Downloading package wordnet to /root/nltk_data...\n",
            "[nltk_data]   Package wordnet is already up-to-date!\n",
            "[nltk_data] Downloading package stopwords to /root/nltk_data...\n",
            "[nltk_data]   Package stopwords is already up-to-date!\n"
          ],
          "name": "stdout"
        }
      ]
    },
    {
      "cell_type": "code",
      "metadata": {
        "colab": {
          "base_uri": "https://localhost:8080/",
          "height": 650
        },
        "id": "EFVAt179iIUK",
        "outputId": "0e8d2fb4-bb13-4e5f-e471-d38f9224cc05"
      },
      "source": [
        "# read the movie dataset\n",
        "dataset=pd.read_csv(\"/content/drive/MyDrive/IMDBmoviedataset.csv\")\n",
        "dataset.head(5)"
      ],
      "execution_count": 111,
      "outputs": [
        {
          "output_type": "execute_result",
          "data": {
            "text/html": [
              "<div>\n",
              "<style scoped>\n",
              "    .dataframe tbody tr th:only-of-type {\n",
              "        vertical-align: middle;\n",
              "    }\n",
              "\n",
              "    .dataframe tbody tr th {\n",
              "        vertical-align: top;\n",
              "    }\n",
              "\n",
              "    .dataframe thead th {\n",
              "        text-align: right;\n",
              "    }\n",
              "</style>\n",
              "<table border=\"1\" class=\"dataframe\">\n",
              "  <thead>\n",
              "    <tr style=\"text-align: right;\">\n",
              "      <th></th>\n",
              "      <th>Title</th>\n",
              "      <th>Year</th>\n",
              "      <th>Rated</th>\n",
              "      <th>Released</th>\n",
              "      <th>Runtime</th>\n",
              "      <th>Genre</th>\n",
              "      <th>Director</th>\n",
              "      <th>Writer</th>\n",
              "      <th>Actors</th>\n",
              "      <th>Plot</th>\n",
              "      <th>Language</th>\n",
              "      <th>Country</th>\n",
              "      <th>Awards</th>\n",
              "      <th>Poster</th>\n",
              "      <th>Ratings.Source</th>\n",
              "      <th>Ratings.Value</th>\n",
              "      <th>Metascore</th>\n",
              "      <th>imdbRating</th>\n",
              "      <th>imdbVotes</th>\n",
              "      <th>imdbID</th>\n",
              "      <th>Type</th>\n",
              "      <th>DVD</th>\n",
              "      <th>BoxOffice</th>\n",
              "      <th>Production</th>\n",
              "      <th>Website</th>\n",
              "      <th>Response</th>\n",
              "      <th>tomatoURL</th>\n",
              "    </tr>\n",
              "  </thead>\n",
              "  <tbody>\n",
              "    <tr>\n",
              "      <th>0</th>\n",
              "      <td>The Player</td>\n",
              "      <td>2015</td>\n",
              "      <td>TV-14</td>\n",
              "      <td>24 Sep 2015</td>\n",
              "      <td>60 min</td>\n",
              "      <td>Action, Crime, Drama</td>\n",
              "      <td>NaN</td>\n",
              "      <td>John Fox, John Rogers</td>\n",
              "      <td>Philip Winchester, Damon Gupton, Wesley Snipes...</td>\n",
              "      <td>A former intelligence and FBI officer, who now...</td>\n",
              "      <td>English</td>\n",
              "      <td>USA</td>\n",
              "      <td>1 nomination.</td>\n",
              "      <td>https://images-na.ssl-images-amazon.com/images...</td>\n",
              "      <td>Internet Movie Database</td>\n",
              "      <td>7.1/10</td>\n",
              "      <td>NaN</td>\n",
              "      <td>7.1</td>\n",
              "      <td>6,331</td>\n",
              "      <td>tt4474310</td>\n",
              "      <td>series</td>\n",
              "      <td>NaN</td>\n",
              "      <td>NaN</td>\n",
              "      <td>NaN</td>\n",
              "      <td>NaN</td>\n",
              "      <td>True</td>\n",
              "      <td>NaN</td>\n",
              "    </tr>\n",
              "    <tr>\n",
              "      <th>1</th>\n",
              "      <td>The Honeymooners</td>\n",
              "      <td>1955–1956</td>\n",
              "      <td>NaN</td>\n",
              "      <td>01 Oct 1955</td>\n",
              "      <td>30 min</td>\n",
              "      <td>Comedy, Family</td>\n",
              "      <td>NaN</td>\n",
              "      <td>Jackie Gleason</td>\n",
              "      <td>Jackie Gleason, Art Carney, Audrey Meadows, Jo...</td>\n",
              "      <td>A bus driver and his sewer worker friend strug...</td>\n",
              "      <td>English</td>\n",
              "      <td>USA</td>\n",
              "      <td>Won 1 Primetime Emmy. Another 3 wins &amp; 7 nomin...</td>\n",
              "      <td>https://images-na.ssl-images-amazon.com/images...</td>\n",
              "      <td>Internet Movie Database</td>\n",
              "      <td>8.7/10</td>\n",
              "      <td>NaN</td>\n",
              "      <td>8.7</td>\n",
              "      <td>3,637</td>\n",
              "      <td>tt0042114</td>\n",
              "      <td>series</td>\n",
              "      <td>23 Sep 2003</td>\n",
              "      <td>NaN</td>\n",
              "      <td>NaN</td>\n",
              "      <td>NaN</td>\n",
              "      <td>True</td>\n",
              "      <td>http://www.rottentomatoes.com/m/ralphs-world-s...</td>\n",
              "    </tr>\n",
              "    <tr>\n",
              "      <th>2</th>\n",
              "      <td>McHale's Navy</td>\n",
              "      <td>1962–1966</td>\n",
              "      <td>TV-G</td>\n",
              "      <td>11 Oct 1962</td>\n",
              "      <td>30 min</td>\n",
              "      <td>Comedy, War</td>\n",
              "      <td>NaN</td>\n",
              "      <td>NaN</td>\n",
              "      <td>Ernest Borgnine, Joe Flynn, Tim Conway, Carl B...</td>\n",
              "      <td>The misadventures of a misfit PT Boat crew dur...</td>\n",
              "      <td>English</td>\n",
              "      <td>USA</td>\n",
              "      <td>Nominated for 5 Primetime Emmys. Another 1 nom...</td>\n",
              "      <td>https://images-na.ssl-images-amazon.com/images...</td>\n",
              "      <td>Internet Movie Database</td>\n",
              "      <td>7.5/10</td>\n",
              "      <td>NaN</td>\n",
              "      <td>7.5</td>\n",
              "      <td>1,698</td>\n",
              "      <td>tt0055689</td>\n",
              "      <td>series</td>\n",
              "      <td>NaN</td>\n",
              "      <td>NaN</td>\n",
              "      <td>NaN</td>\n",
              "      <td>NaN</td>\n",
              "      <td>True</td>\n",
              "      <td>NaN</td>\n",
              "    </tr>\n",
              "    <tr>\n",
              "      <th>3</th>\n",
              "      <td>Bewitched</td>\n",
              "      <td>1964–1972</td>\n",
              "      <td>TV-G</td>\n",
              "      <td>17 Sep 1964</td>\n",
              "      <td>25 min</td>\n",
              "      <td>Comedy, Family, Fantasy</td>\n",
              "      <td>NaN</td>\n",
              "      <td>Sol Saks</td>\n",
              "      <td>Elizabeth Montgomery, Agnes Moorehead, David W...</td>\n",
              "      <td>A witch married to an ordinary man cannot resi...</td>\n",
              "      <td>English</td>\n",
              "      <td>USA</td>\n",
              "      <td>Nominated for 4 Golden Globes. Another 13 wins...</td>\n",
              "      <td>https://images-na.ssl-images-amazon.com/images...</td>\n",
              "      <td>Internet Movie Database</td>\n",
              "      <td>7.6/10</td>\n",
              "      <td>NaN</td>\n",
              "      <td>7.6</td>\n",
              "      <td>12,399</td>\n",
              "      <td>tt0057733</td>\n",
              "      <td>series</td>\n",
              "      <td>NaN</td>\n",
              "      <td>NaN</td>\n",
              "      <td>NaN</td>\n",
              "      <td>NaN</td>\n",
              "      <td>True</td>\n",
              "      <td>NaN</td>\n",
              "    </tr>\n",
              "    <tr>\n",
              "      <th>4</th>\n",
              "      <td>M*A*S*H</td>\n",
              "      <td>1972–1983</td>\n",
              "      <td>TV-PG</td>\n",
              "      <td>17 Sep 1972</td>\n",
              "      <td>25 min</td>\n",
              "      <td>Comedy, Drama, War</td>\n",
              "      <td>NaN</td>\n",
              "      <td>Larry Gelbart</td>\n",
              "      <td>Alan Alda, Loretta Swit, Jamie Farr, William C...</td>\n",
              "      <td>The staff of an army hospital in the Korean wa...</td>\n",
              "      <td>English</td>\n",
              "      <td>USA</td>\n",
              "      <td>Won 8 Golden Globes. Another 54 wins &amp; 153 nom...</td>\n",
              "      <td>https://images-na.ssl-images-amazon.com/images...</td>\n",
              "      <td>Internet Movie Database</td>\n",
              "      <td>8.4/10</td>\n",
              "      <td>NaN</td>\n",
              "      <td>8.4</td>\n",
              "      <td>40,349</td>\n",
              "      <td>tt0068098</td>\n",
              "      <td>series</td>\n",
              "      <td>NaN</td>\n",
              "      <td>NaN</td>\n",
              "      <td>NaN</td>\n",
              "      <td>NaN</td>\n",
              "      <td>True</td>\n",
              "      <td>NaN</td>\n",
              "    </tr>\n",
              "  </tbody>\n",
              "</table>\n",
              "</div>"
            ],
            "text/plain": [
              "              Title  ...                                          tomatoURL\n",
              "0        The Player  ...                                                NaN\n",
              "1  The Honeymooners  ...  http://www.rottentomatoes.com/m/ralphs-world-s...\n",
              "2     McHale's Navy  ...                                                NaN\n",
              "3         Bewitched  ...                                                NaN\n",
              "4           M*A*S*H  ...                                                NaN\n",
              "\n",
              "[5 rows x 27 columns]"
            ]
          },
          "metadata": {
            "tags": []
          },
          "execution_count": 111
        }
      ]
    },
    {
      "cell_type": "code",
      "metadata": {
        "id": "Q_uh3vnA_JIZ"
      },
      "source": [
        "#load the movie dataset via google colab\n",
        "#from google.colab import files\n",
        "#uploaded = files.upload()\n",
        "#dataset= pd.read_csv(\"Moviedataset.csv\")"
      ],
      "execution_count": 112,
      "outputs": []
    },
    {
      "cell_type": "code",
      "metadata": {
        "colab": {
          "base_uri": "https://localhost:8080/"
        },
        "id": "MHCVSkeykJAf",
        "outputId": "79052ee3-3c8b-4213-cd5b-252fc900fa63"
      },
      "source": [
        "# print the columns present in the  movie datatset\n",
        "print(dataset.columns)"
      ],
      "execution_count": 113,
      "outputs": [
        {
          "output_type": "stream",
          "text": [
            "Index(['Title', 'Year', 'Rated', 'Released', 'Runtime', 'Genre', 'Director',\n",
            "       'Writer', 'Actors', 'Plot', 'Language', 'Country', 'Awards', 'Poster',\n",
            "       'Ratings.Source', 'Ratings.Value', 'Metascore', 'imdbRating',\n",
            "       'imdbVotes', 'imdbID', 'Type', 'DVD', 'BoxOffice', 'Production',\n",
            "       'Website', 'Response', 'tomatoURL'],\n",
            "      dtype='object')\n"
          ],
          "name": "stdout"
        }
      ]
    },
    {
      "cell_type": "code",
      "metadata": {
        "colab": {
          "base_uri": "https://localhost:8080/",
          "height": 204
        },
        "id": "2AaEgQeKmYbg",
        "outputId": "898be055-4404-48a6-e41f-afae719ffd82"
      },
      "source": [
        "# seperate required columns ['Director','Genre','Actors','Plot','Title'] from the original dataset \n",
        "moviedata = dataset.loc[:,['Genre','Actors','Plot','Title']]\n",
        "moviedata.head()"
      ],
      "execution_count": 114,
      "outputs": [
        {
          "output_type": "execute_result",
          "data": {
            "text/html": [
              "<div>\n",
              "<style scoped>\n",
              "    .dataframe tbody tr th:only-of-type {\n",
              "        vertical-align: middle;\n",
              "    }\n",
              "\n",
              "    .dataframe tbody tr th {\n",
              "        vertical-align: top;\n",
              "    }\n",
              "\n",
              "    .dataframe thead th {\n",
              "        text-align: right;\n",
              "    }\n",
              "</style>\n",
              "<table border=\"1\" class=\"dataframe\">\n",
              "  <thead>\n",
              "    <tr style=\"text-align: right;\">\n",
              "      <th></th>\n",
              "      <th>Genre</th>\n",
              "      <th>Actors</th>\n",
              "      <th>Plot</th>\n",
              "      <th>Title</th>\n",
              "    </tr>\n",
              "  </thead>\n",
              "  <tbody>\n",
              "    <tr>\n",
              "      <th>0</th>\n",
              "      <td>Action, Crime, Drama</td>\n",
              "      <td>Philip Winchester, Damon Gupton, Wesley Snipes...</td>\n",
              "      <td>A former intelligence and FBI officer, who now...</td>\n",
              "      <td>The Player</td>\n",
              "    </tr>\n",
              "    <tr>\n",
              "      <th>1</th>\n",
              "      <td>Comedy, Family</td>\n",
              "      <td>Jackie Gleason, Art Carney, Audrey Meadows, Jo...</td>\n",
              "      <td>A bus driver and his sewer worker friend strug...</td>\n",
              "      <td>The Honeymooners</td>\n",
              "    </tr>\n",
              "    <tr>\n",
              "      <th>2</th>\n",
              "      <td>Comedy, War</td>\n",
              "      <td>Ernest Borgnine, Joe Flynn, Tim Conway, Carl B...</td>\n",
              "      <td>The misadventures of a misfit PT Boat crew dur...</td>\n",
              "      <td>McHale's Navy</td>\n",
              "    </tr>\n",
              "    <tr>\n",
              "      <th>3</th>\n",
              "      <td>Comedy, Family, Fantasy</td>\n",
              "      <td>Elizabeth Montgomery, Agnes Moorehead, David W...</td>\n",
              "      <td>A witch married to an ordinary man cannot resi...</td>\n",
              "      <td>Bewitched</td>\n",
              "    </tr>\n",
              "    <tr>\n",
              "      <th>4</th>\n",
              "      <td>Comedy, Drama, War</td>\n",
              "      <td>Alan Alda, Loretta Swit, Jamie Farr, William C...</td>\n",
              "      <td>The staff of an army hospital in the Korean wa...</td>\n",
              "      <td>M*A*S*H</td>\n",
              "    </tr>\n",
              "  </tbody>\n",
              "</table>\n",
              "</div>"
            ],
            "text/plain": [
              "                     Genre  ...             Title\n",
              "0     Action, Crime, Drama  ...        The Player\n",
              "1           Comedy, Family  ...  The Honeymooners\n",
              "2              Comedy, War  ...     McHale's Navy\n",
              "3  Comedy, Family, Fantasy  ...         Bewitched\n",
              "4       Comedy, Drama, War  ...           M*A*S*H\n",
              "\n",
              "[5 rows x 4 columns]"
            ]
          },
          "metadata": {
            "tags": []
          },
          "execution_count": 114
        }
      ]
    },
    {
      "cell_type": "code",
      "metadata": {
        "colab": {
          "base_uri": "https://localhost:8080/"
        },
        "id": "-jVK3-yXDL7S",
        "outputId": "6b6e5553-51fd-40e3-a00e-40ff3557ed1d"
      },
      "source": [
        "# checking for the any missing value in the data\n",
        "print(moviedata.isnull())\n",
        "moviedata.info()"
      ],
      "execution_count": 115,
      "outputs": [
        {
          "output_type": "stream",
          "text": [
            "      Genre  Actors   Plot  Title\n",
            "0     False   False  False  False\n",
            "1     False   False  False  False\n",
            "2     False   False  False  False\n",
            "3     False   False  False  False\n",
            "4     False   False  False  False\n",
            "...     ...     ...    ...    ...\n",
            "5377  False    True  False  False\n",
            "5378  False   False  False  False\n",
            "5379  False   False  False  False\n",
            "5380  False   False  False  False\n",
            "5381  False   False  False  False\n",
            "\n",
            "[5382 rows x 4 columns]\n",
            "<class 'pandas.core.frame.DataFrame'>\n",
            "RangeIndex: 5382 entries, 0 to 5381\n",
            "Data columns (total 4 columns):\n",
            " #   Column  Non-Null Count  Dtype \n",
            "---  ------  --------------  ----- \n",
            " 0   Genre   5379 non-null   object\n",
            " 1   Actors  5375 non-null   object\n",
            " 2   Plot    5368 non-null   object\n",
            " 3   Title   5382 non-null   object\n",
            "dtypes: object(4)\n",
            "memory usage: 168.3+ KB\n"
          ],
          "name": "stdout"
        }
      ]
    },
    {
      "cell_type": "code",
      "metadata": {
        "id": "rkHNwRDQrxHI",
        "colab": {
          "base_uri": "https://localhost:8080/"
        },
        "outputId": "d73e3eb9-9ae5-4131-ce88-a87a58392427"
      },
      "source": [
        "# Replace the NaN value by the \"is\" i.e. by a stopword so that it can be removed during tokenization\n",
        "df=moviedata.replace(np.nan, \"is\")\n",
        "df.info()"
      ],
      "execution_count": 116,
      "outputs": [
        {
          "output_type": "stream",
          "text": [
            "<class 'pandas.core.frame.DataFrame'>\n",
            "RangeIndex: 5382 entries, 0 to 5381\n",
            "Data columns (total 4 columns):\n",
            " #   Column  Non-Null Count  Dtype \n",
            "---  ------  --------------  ----- \n",
            " 0   Genre   5382 non-null   object\n",
            " 1   Actors  5382 non-null   object\n",
            " 2   Plot    5382 non-null   object\n",
            " 3   Title   5382 non-null   object\n",
            "dtypes: object(4)\n",
            "memory usage: 168.3+ KB\n"
          ],
          "name": "stdout"
        }
      ]
    },
    {
      "cell_type": "code",
      "metadata": {
        "id": "YxufmG92y_nb",
        "colab": {
          "base_uri": "https://localhost:8080/"
        },
        "outputId": "582e644c-d507-4f90-dc3e-3e3fcca526df"
      },
      "source": [
        "# concatenate the columns to form a single for describing the moview\n",
        "df[\"Content\"] =  df[\"Genre\"]+ \"\" +df['Actors']+\"\"+df['Plot']\n",
        "print(df.head(10))"
      ],
      "execution_count": 117,
      "outputs": [
        {
          "output_type": "stream",
          "text": [
            "                      Genre  ...                                            Content\n",
            "0      Action, Crime, Drama  ...  Action, Crime, DramaPhilip Winchester, Damon G...\n",
            "1            Comedy, Family  ...  Comedy, FamilyJackie Gleason, Art Carney, Audr...\n",
            "2               Comedy, War  ...  Comedy, WarErnest Borgnine, Joe Flynn, Tim Con...\n",
            "3   Comedy, Family, Fantasy  ...  Comedy, Family, FantasyElizabeth Montgomery, A...\n",
            "4        Comedy, Drama, War  ...  Comedy, Drama, WarAlan Alda, Loretta Swit, Jam...\n",
            "5      Action, Crime, Drama  ...  Action, Crime, DramaKarl Malden, Michael Dougl...\n",
            "6  Action, Adventure, Crime  ...  Action, Adventure, CrimeGeorge Peppard, Dwight...\n",
            "7      Action, Crime, Drama  ...  Action, Crime, DramaDon Johnson, Philip Michae...\n",
            "8             Drama, Family  ...  Drama, FamilyMegan Follows, Colleen Dewhurst, ...\n",
            "9            Drama, Romance  ...  Drama, RomanceKatherine Kelly Lang, Ronn Moss,...\n",
            "\n",
            "[10 rows x 5 columns]\n"
          ],
          "name": "stdout"
        }
      ]
    },
    {
      "cell_type": "markdown",
      "metadata": {
        "id": "CPQ63qk8R5za"
      },
      "source": [
        "**Data Preprocessing steps:**"
      ]
    },
    {
      "cell_type": "code",
      "metadata": {
        "colab": {
          "base_uri": "https://localhost:8080/",
          "height": 290
        },
        "id": "Z2YOVSBj9r5c",
        "outputId": "972db531-778d-436e-af42-2e5cf9ce1822"
      },
      "source": [
        "# import regular expression library for removing symbols/ commas or irrelavent words and tokenized the content\n",
        "import re\n",
        "\n",
        "def tokenization(text):\n",
        "  tokens= re.split('\\W+', text)\n",
        "  return tokens\n",
        "  \n",
        "df['tokenize_content'] = df['Content'].apply(lambda x: tokenization(x.lower()))\n",
        "df.head(5)"
      ],
      "execution_count": 118,
      "outputs": [
        {
          "output_type": "execute_result",
          "data": {
            "text/html": [
              "<div>\n",
              "<style scoped>\n",
              "    .dataframe tbody tr th:only-of-type {\n",
              "        vertical-align: middle;\n",
              "    }\n",
              "\n",
              "    .dataframe tbody tr th {\n",
              "        vertical-align: top;\n",
              "    }\n",
              "\n",
              "    .dataframe thead th {\n",
              "        text-align: right;\n",
              "    }\n",
              "</style>\n",
              "<table border=\"1\" class=\"dataframe\">\n",
              "  <thead>\n",
              "    <tr style=\"text-align: right;\">\n",
              "      <th></th>\n",
              "      <th>Genre</th>\n",
              "      <th>Actors</th>\n",
              "      <th>Plot</th>\n",
              "      <th>Title</th>\n",
              "      <th>Content</th>\n",
              "      <th>tokenize_content</th>\n",
              "    </tr>\n",
              "  </thead>\n",
              "  <tbody>\n",
              "    <tr>\n",
              "      <th>0</th>\n",
              "      <td>Action, Crime, Drama</td>\n",
              "      <td>Philip Winchester, Damon Gupton, Wesley Snipes...</td>\n",
              "      <td>A former intelligence and FBI officer, who now...</td>\n",
              "      <td>The Player</td>\n",
              "      <td>Action, Crime, DramaPhilip Winchester, Damon G...</td>\n",
              "      <td>[action, crime, dramaphilip, winchester, damon...</td>\n",
              "    </tr>\n",
              "    <tr>\n",
              "      <th>1</th>\n",
              "      <td>Comedy, Family</td>\n",
              "      <td>Jackie Gleason, Art Carney, Audrey Meadows, Jo...</td>\n",
              "      <td>A bus driver and his sewer worker friend strug...</td>\n",
              "      <td>The Honeymooners</td>\n",
              "      <td>Comedy, FamilyJackie Gleason, Art Carney, Audr...</td>\n",
              "      <td>[comedy, familyjackie, gleason, art, carney, a...</td>\n",
              "    </tr>\n",
              "    <tr>\n",
              "      <th>2</th>\n",
              "      <td>Comedy, War</td>\n",
              "      <td>Ernest Borgnine, Joe Flynn, Tim Conway, Carl B...</td>\n",
              "      <td>The misadventures of a misfit PT Boat crew dur...</td>\n",
              "      <td>McHale's Navy</td>\n",
              "      <td>Comedy, WarErnest Borgnine, Joe Flynn, Tim Con...</td>\n",
              "      <td>[comedy, warernest, borgnine, joe, flynn, tim,...</td>\n",
              "    </tr>\n",
              "    <tr>\n",
              "      <th>3</th>\n",
              "      <td>Comedy, Family, Fantasy</td>\n",
              "      <td>Elizabeth Montgomery, Agnes Moorehead, David W...</td>\n",
              "      <td>A witch married to an ordinary man cannot resi...</td>\n",
              "      <td>Bewitched</td>\n",
              "      <td>Comedy, Family, FantasyElizabeth Montgomery, A...</td>\n",
              "      <td>[comedy, family, fantasyelizabeth, montgomery,...</td>\n",
              "    </tr>\n",
              "    <tr>\n",
              "      <th>4</th>\n",
              "      <td>Comedy, Drama, War</td>\n",
              "      <td>Alan Alda, Loretta Swit, Jamie Farr, William C...</td>\n",
              "      <td>The staff of an army hospital in the Korean wa...</td>\n",
              "      <td>M*A*S*H</td>\n",
              "      <td>Comedy, Drama, WarAlan Alda, Loretta Swit, Jam...</td>\n",
              "      <td>[comedy, drama, waralan, alda, loretta, swit, ...</td>\n",
              "    </tr>\n",
              "  </tbody>\n",
              "</table>\n",
              "</div>"
            ],
            "text/plain": [
              "                     Genre  ...                                   tokenize_content\n",
              "0     Action, Crime, Drama  ...  [action, crime, dramaphilip, winchester, damon...\n",
              "1           Comedy, Family  ...  [comedy, familyjackie, gleason, art, carney, a...\n",
              "2              Comedy, War  ...  [comedy, warernest, borgnine, joe, flynn, tim,...\n",
              "3  Comedy, Family, Fantasy  ...  [comedy, family, fantasyelizabeth, montgomery,...\n",
              "4       Comedy, Drama, War  ...  [comedy, drama, waralan, alda, loretta, swit, ...\n",
              "\n",
              "[5 rows x 6 columns]"
            ]
          },
          "metadata": {
            "tags": []
          },
          "execution_count": 118
        }
      ]
    },
    {
      "cell_type": "code",
      "metadata": {
        "colab": {
          "base_uri": "https://localhost:8080/",
          "height": 307
        },
        "id": "fvywrPqaA5cT",
        "outputId": "65293337-79e4-4d51-bd7a-70f32566cbed"
      },
      "source": [
        "# removed the stopwords from the data\n",
        "stop_words = nltk.corpus.stopwords.words(\"english\")\n",
        "\n",
        "def remove_stopwords(tokenized_text):\n",
        "  clean_text = [word for word in tokenized_text if word not in stop_words]\n",
        "  return clean_text\n",
        "  \n",
        "df[\"clean_content\"] = df['tokenize_content'].apply(lambda x:remove_stopwords(x))\n",
        "df.head(5)\n"
      ],
      "execution_count": 119,
      "outputs": [
        {
          "output_type": "execute_result",
          "data": {
            "text/html": [
              "<div>\n",
              "<style scoped>\n",
              "    .dataframe tbody tr th:only-of-type {\n",
              "        vertical-align: middle;\n",
              "    }\n",
              "\n",
              "    .dataframe tbody tr th {\n",
              "        vertical-align: top;\n",
              "    }\n",
              "\n",
              "    .dataframe thead th {\n",
              "        text-align: right;\n",
              "    }\n",
              "</style>\n",
              "<table border=\"1\" class=\"dataframe\">\n",
              "  <thead>\n",
              "    <tr style=\"text-align: right;\">\n",
              "      <th></th>\n",
              "      <th>Genre</th>\n",
              "      <th>Actors</th>\n",
              "      <th>Plot</th>\n",
              "      <th>Title</th>\n",
              "      <th>Content</th>\n",
              "      <th>tokenize_content</th>\n",
              "      <th>clean_content</th>\n",
              "    </tr>\n",
              "  </thead>\n",
              "  <tbody>\n",
              "    <tr>\n",
              "      <th>0</th>\n",
              "      <td>Action, Crime, Drama</td>\n",
              "      <td>Philip Winchester, Damon Gupton, Wesley Snipes...</td>\n",
              "      <td>A former intelligence and FBI officer, who now...</td>\n",
              "      <td>The Player</td>\n",
              "      <td>Action, Crime, DramaPhilip Winchester, Damon G...</td>\n",
              "      <td>[action, crime, dramaphilip, winchester, damon...</td>\n",
              "      <td>[action, crime, dramaphilip, winchester, damon...</td>\n",
              "    </tr>\n",
              "    <tr>\n",
              "      <th>1</th>\n",
              "      <td>Comedy, Family</td>\n",
              "      <td>Jackie Gleason, Art Carney, Audrey Meadows, Jo...</td>\n",
              "      <td>A bus driver and his sewer worker friend strug...</td>\n",
              "      <td>The Honeymooners</td>\n",
              "      <td>Comedy, FamilyJackie Gleason, Art Carney, Audr...</td>\n",
              "      <td>[comedy, familyjackie, gleason, art, carney, a...</td>\n",
              "      <td>[comedy, familyjackie, gleason, art, carney, a...</td>\n",
              "    </tr>\n",
              "    <tr>\n",
              "      <th>2</th>\n",
              "      <td>Comedy, War</td>\n",
              "      <td>Ernest Borgnine, Joe Flynn, Tim Conway, Carl B...</td>\n",
              "      <td>The misadventures of a misfit PT Boat crew dur...</td>\n",
              "      <td>McHale's Navy</td>\n",
              "      <td>Comedy, WarErnest Borgnine, Joe Flynn, Tim Con...</td>\n",
              "      <td>[comedy, warernest, borgnine, joe, flynn, tim,...</td>\n",
              "      <td>[comedy, warernest, borgnine, joe, flynn, tim,...</td>\n",
              "    </tr>\n",
              "    <tr>\n",
              "      <th>3</th>\n",
              "      <td>Comedy, Family, Fantasy</td>\n",
              "      <td>Elizabeth Montgomery, Agnes Moorehead, David W...</td>\n",
              "      <td>A witch married to an ordinary man cannot resi...</td>\n",
              "      <td>Bewitched</td>\n",
              "      <td>Comedy, Family, FantasyElizabeth Montgomery, A...</td>\n",
              "      <td>[comedy, family, fantasyelizabeth, montgomery,...</td>\n",
              "      <td>[comedy, family, fantasyelizabeth, montgomery,...</td>\n",
              "    </tr>\n",
              "    <tr>\n",
              "      <th>4</th>\n",
              "      <td>Comedy, Drama, War</td>\n",
              "      <td>Alan Alda, Loretta Swit, Jamie Farr, William C...</td>\n",
              "      <td>The staff of an army hospital in the Korean wa...</td>\n",
              "      <td>M*A*S*H</td>\n",
              "      <td>Comedy, Drama, WarAlan Alda, Loretta Swit, Jam...</td>\n",
              "      <td>[comedy, drama, waralan, alda, loretta, swit, ...</td>\n",
              "      <td>[comedy, drama, waralan, alda, loretta, swit, ...</td>\n",
              "    </tr>\n",
              "  </tbody>\n",
              "</table>\n",
              "</div>"
            ],
            "text/plain": [
              "                     Genre  ...                                      clean_content\n",
              "0     Action, Crime, Drama  ...  [action, crime, dramaphilip, winchester, damon...\n",
              "1           Comedy, Family  ...  [comedy, familyjackie, gleason, art, carney, a...\n",
              "2              Comedy, War  ...  [comedy, warernest, borgnine, joe, flynn, tim,...\n",
              "3  Comedy, Family, Fantasy  ...  [comedy, family, fantasyelizabeth, montgomery,...\n",
              "4       Comedy, Drama, War  ...  [comedy, drama, waralan, alda, loretta, swit, ...\n",
              "\n",
              "[5 rows x 7 columns]"
            ]
          },
          "metadata": {
            "tags": []
          },
          "execution_count": 119
        }
      ]
    },
    {
      "cell_type": "code",
      "metadata": {
        "colab": {
          "base_uri": "https://localhost:8080/",
          "height": 244
        },
        "id": "vOlZUoCQOfO4",
        "outputId": "fe9c70dd-3aa8-4b07-8548-069ac0d2f34e"
      },
      "source": [
        "# import wordnetlemmatizer for words lemmatization \n",
        "from nltk.stem import WordNetLemmatizer\n",
        "lemmtz= nltk.WordNetLemmatizer()\n",
        "\n",
        "def lemmatization(token_text):\n",
        "  text = [lemmtz.lemmatize(word) for word in token_text]\n",
        "  return text\n",
        "  \n",
        "df['Final_content'] = df['clean_content'].apply(lambda x: lemmatization(x))\n",
        "df.head(3)"
      ],
      "execution_count": 120,
      "outputs": [
        {
          "output_type": "execute_result",
          "data": {
            "text/html": [
              "<div>\n",
              "<style scoped>\n",
              "    .dataframe tbody tr th:only-of-type {\n",
              "        vertical-align: middle;\n",
              "    }\n",
              "\n",
              "    .dataframe tbody tr th {\n",
              "        vertical-align: top;\n",
              "    }\n",
              "\n",
              "    .dataframe thead th {\n",
              "        text-align: right;\n",
              "    }\n",
              "</style>\n",
              "<table border=\"1\" class=\"dataframe\">\n",
              "  <thead>\n",
              "    <tr style=\"text-align: right;\">\n",
              "      <th></th>\n",
              "      <th>Genre</th>\n",
              "      <th>Actors</th>\n",
              "      <th>Plot</th>\n",
              "      <th>Title</th>\n",
              "      <th>Content</th>\n",
              "      <th>tokenize_content</th>\n",
              "      <th>clean_content</th>\n",
              "      <th>Final_content</th>\n",
              "    </tr>\n",
              "  </thead>\n",
              "  <tbody>\n",
              "    <tr>\n",
              "      <th>0</th>\n",
              "      <td>Action, Crime, Drama</td>\n",
              "      <td>Philip Winchester, Damon Gupton, Wesley Snipes...</td>\n",
              "      <td>A former intelligence and FBI officer, who now...</td>\n",
              "      <td>The Player</td>\n",
              "      <td>Action, Crime, DramaPhilip Winchester, Damon G...</td>\n",
              "      <td>[action, crime, dramaphilip, winchester, damon...</td>\n",
              "      <td>[action, crime, dramaphilip, winchester, damon...</td>\n",
              "      <td>[action, crime, dramaphilip, winchester, damon...</td>\n",
              "    </tr>\n",
              "    <tr>\n",
              "      <th>1</th>\n",
              "      <td>Comedy, Family</td>\n",
              "      <td>Jackie Gleason, Art Carney, Audrey Meadows, Jo...</td>\n",
              "      <td>A bus driver and his sewer worker friend strug...</td>\n",
              "      <td>The Honeymooners</td>\n",
              "      <td>Comedy, FamilyJackie Gleason, Art Carney, Audr...</td>\n",
              "      <td>[comedy, familyjackie, gleason, art, carney, a...</td>\n",
              "      <td>[comedy, familyjackie, gleason, art, carney, a...</td>\n",
              "      <td>[comedy, familyjackie, gleason, art, carney, a...</td>\n",
              "    </tr>\n",
              "    <tr>\n",
              "      <th>2</th>\n",
              "      <td>Comedy, War</td>\n",
              "      <td>Ernest Borgnine, Joe Flynn, Tim Conway, Carl B...</td>\n",
              "      <td>The misadventures of a misfit PT Boat crew dur...</td>\n",
              "      <td>McHale's Navy</td>\n",
              "      <td>Comedy, WarErnest Borgnine, Joe Flynn, Tim Con...</td>\n",
              "      <td>[comedy, warernest, borgnine, joe, flynn, tim,...</td>\n",
              "      <td>[comedy, warernest, borgnine, joe, flynn, tim,...</td>\n",
              "      <td>[comedy, warernest, borgnine, joe, flynn, tim,...</td>\n",
              "    </tr>\n",
              "  </tbody>\n",
              "</table>\n",
              "</div>"
            ],
            "text/plain": [
              "                  Genre  ...                                      Final_content\n",
              "0  Action, Crime, Drama  ...  [action, crime, dramaphilip, winchester, damon...\n",
              "1        Comedy, Family  ...  [comedy, familyjackie, gleason, art, carney, a...\n",
              "2           Comedy, War  ...  [comedy, warernest, borgnine, joe, flynn, tim,...\n",
              "\n",
              "[3 rows x 8 columns]"
            ]
          },
          "metadata": {
            "tags": []
          },
          "execution_count": 120
        }
      ]
    },
    {
      "cell_type": "code",
      "metadata": {
        "colab": {
          "base_uri": "https://localhost:8080/"
        },
        "id": "ZvAkKBF-E2hz",
        "outputId": "002bad2b-9412-4d91-e2e1-925c98bfced0"
      },
      "source": [
        "# show the final content after data preprocessing\n",
        "print(df['Final_content'])"
      ],
      "execution_count": 121,
      "outputs": [
        {
          "output_type": "stream",
          "text": [
            "0       [action, crime, dramaphilip, winchester, damon...\n",
            "1       [comedy, familyjackie, gleason, art, carney, a...\n",
            "2       [comedy, warernest, borgnine, joe, flynn, tim,...\n",
            "3       [comedy, family, fantasyelizabeth, montgomery,...\n",
            "4       [comedy, drama, waralan, alda, loretta, swit, ...\n",
            "                              ...                        \n",
            "5377    [documentary, warismoving, political, sphere, ...\n",
            "5378    [comedy, dramaeric, mabius, kristin, booth, cr...\n",
            "5379    [comedy, drama, romancele, geng, daniel, henne...\n",
            "5380    [drama, horror, thrillereva, boehnke, david, c...\n",
            "5381    [documentarydrew, barrymore, john, august, ste...\n",
            "Name: Final_content, Length: 5382, dtype: object\n"
          ],
          "name": "stdout"
        }
      ]
    },
    {
      "cell_type": "code",
      "metadata": {
        "id": "tZJE7OdBsj_x",
        "colab": {
          "base_uri": "https://localhost:8080/"
        },
        "outputId": "019e1aee-9fa7-4d06-d33b-0d7f5c181974"
      },
      "source": [
        "# create a copy of data which containing only movie 'title' and  \"final content\" of the movie data\n",
        "movie_data = df[['Title', 'Final_content']].copy()\n",
        "print(movie_data.head(15))\n"
      ],
      "execution_count": 122,
      "outputs": [
        {
          "output_type": "stream",
          "text": [
            "                           Title                                      Final_content\n",
            "0                     The Player  [action, crime, dramaphilip, winchester, damon...\n",
            "1               The Honeymooners  [comedy, familyjackie, gleason, art, carney, a...\n",
            "2                  McHale's Navy  [comedy, warernest, borgnine, joe, flynn, tim,...\n",
            "3                      Bewitched  [comedy, family, fantasyelizabeth, montgomery,...\n",
            "4                        M*A*S*H  [comedy, drama, waralan, alda, loretta, swit, ...\n",
            "5   The Streets of San Francisco  [action, crime, dramakarl, malden, michael, do...\n",
            "6                     The A-Team  [action, adventure, crimegeorge, peppard, dwig...\n",
            "7                     Miami Vice  [action, crime, dramadon, johnson, philip, mic...\n",
            "8           Anne of Green Gables  [drama, familymegan, follows, colleen, dewhurs...\n",
            "9     The Bold and the Beautiful  [drama, romancekatherine, kelly, lang, ronn, m...\n",
            "10                       Dekalog  [dramaartur, barcis, olgierd, lukaszewicz, ale...\n",
            "11      In the Heat of the Night  [action, crime, dramacarroll, connor, alan, au...\n",
            "12                         Wings  [comedy, dramatim, daly, steven, weber, crysta...\n",
            "13              A Touch of Frost  [crime, drama, mysterydavid, jason, bruce, ale...\n",
            "14       Space: Above and Beyond  [drama, sci, fimorgan, weisser, kristen, cloke...\n"
          ],
          "name": "stdout"
        }
      ]
    },
    {
      "cell_type": "code",
      "metadata": {
        "colab": {
          "base_uri": "https://localhost:8080/"
        },
        "id": "hSac6pe-Q6nn",
        "outputId": "f7807718-5f94-403b-a135-c7dc10edb0eb"
      },
      "source": [
        "# import TF-IDF vectorizer for vectorization\n",
        "from sklearn.feature_extraction.text import TfidfVectorizer  \n",
        "\n",
        "# vectorize the movie \"content\" with most significant 30 words  \n",
        "tfidf = TfidfVectorizer(ngram_range=(1,30), analyzer= remove_stopwords)\n",
        "tfidf_content = tfidf.fit_transform( movie_data['Final_content'])\n",
        "\n",
        "# print the shape of vector metrix\n",
        "print(tfidf_content.shape)\n",
        "print(tfidf_content)\n"
      ],
      "execution_count": 123,
      "outputs": [
        {
          "output_type": "stream",
          "text": [
            "(5382, 27888)\n",
            "  (0, 0)\t0.0264562540680104\n",
            "  (0, 24188)\t0.16658283064210144\n",
            "  (0, 4205)\t0.15591734143785546\n",
            "  (0, 2582)\t0.18920985112858038\n",
            "  (0, 19422)\t0.14991314985688856\n",
            "  (0, 20990)\t0.15591734143785546\n",
            "  (0, 19812)\t0.16195614398822689\n",
            "  (0, 25814)\t0.11412733776095758\n",
            "  (0, 25426)\t0.23405211254673802\n",
            "  (0, 2199)\t0.14991314985688856\n",
            "  (0, 13642)\t0.14593512007656062\n",
            "  (0, 17200)\t0.17097707690613484\n",
            "  (0, 3093)\t0.14938173111706923\n",
            "  (0, 19399)\t0.20109901831303606\n",
            "  (0, 17520)\t0.12267676529401483\n",
            "  (0, 20555)\t0.17220075488634454\n",
            "  (0, 26386)\t0.15876382759820165\n",
            "  (0, 14571)\t0.1521531692009661\n",
            "  (0, 8798)\t0.17625558569335495\n",
            "  (0, 22443)\t0.16559009648910897\n",
            "  (0, 27469)\t0.1230607769746937\n",
            "  (0, 18375)\t0.13573520644145343\n",
            "  (0, 9390)\t0.1527443026836893\n",
            "  (0, 13116)\t0.17097707690613484\n",
            "  (0, 10041)\t0.12345047792390396\n",
            "  :\t:\n",
            "  (5381, 20132)\t0.23630363900368506\n",
            "  (5381, 2346)\t0.23630363900368506\n",
            "  (5381, 7066)\t0.23630363900368506\n",
            "  (5381, 3579)\t0.22553555029346434\n",
            "  (5381, 22216)\t0.20712738105706788\n",
            "  (5381, 10966)\t0.21196936291465132\n",
            "  (5381, 5887)\t0.19356119367825486\n",
            "  (5381, 930)\t0.18107913129449565\n",
            "  (5381, 7828)\t0.18107913129449565\n",
            "  (5381, 26922)\t0.2178954697672886\n",
            "  (5381, 1715)\t0.22553555029346434\n",
            "  (5381, 23067)\t0.17031104258427493\n",
            "  (5381, 23476)\t0.1671830344002299\n",
            "  (5381, 22433)\t0.17031104258427493\n",
            "  (5381, 2166)\t0.35303047933733434\n",
            "  (5381, 8038)\t0.161853747595848\n",
            "  (5381, 9788)\t0.1308631099034687\n",
            "  (5381, 8846)\t0.20303354372821455\n",
            "  (5381, 8692)\t0.1626709620580992\n",
            "  (5381, 23921)\t0.19103000554246521\n",
            "  (5381, 21088)\t0.1751530244418584\n",
            "  (5381, 24510)\t0.1070347038612339\n",
            "  (5381, 3316)\t0.15881530905646865\n",
            "  (5381, 13636)\t0.10193858250954992\n",
            "  (5381, 0)\t0.026710757030353645\n"
          ],
          "name": "stdout"
        }
      ]
    },
    {
      "cell_type": "code",
      "metadata": {
        "colab": {
          "base_uri": "https://localhost:8080/"
        },
        "id": "SG8WhgCNS7FE",
        "outputId": "5832f844-a7c6-439f-82ff-3ecdde5c18fc"
      },
      "source": [
        "# import cosine_similarity library from sk_Learn for similarity matching\n",
        "from sklearn.metrics.pairwise import cosine_similarity\n",
        "\n",
        "# Finding cosine similarity between movie contents\n",
        "cos_similarity = cosine_similarity(tfidf_content, tfidf_content)\n",
        "print(cos_similarity)\n",
        "\n",
        "# print the shape of similarity metrix\n",
        "cos_similarity.shape"
      ],
      "execution_count": 124,
      "outputs": [
        {
          "output_type": "stream",
          "text": [
            "[[1.00000000e+00 3.04164705e-02 9.42165746e-04 ... 6.97922179e-04\n",
            "  1.08553711e-03 7.06666574e-04]\n",
            " [3.04164705e-02 1.00000000e+00 6.91421738e-03 ... 5.12180122e-03\n",
            "  1.32019226e-03 8.59423170e-04]\n",
            " [9.42165746e-04 6.91421738e-03 1.00000000e+00 ... 5.66892637e-03\n",
            "  1.46121889e-03 9.51229160e-04]\n",
            " ...\n",
            " [6.97922179e-04 5.12180122e-03 5.66892637e-03 ... 1.00000000e+00\n",
            "  5.71430270e-03 7.04636027e-04]\n",
            " [1.08553711e-03 1.32019226e-03 1.46121889e-03 ... 5.71430270e-03\n",
            "  1.00000000e+00 1.86946295e-02]\n",
            " [7.06666574e-04 8.59423170e-04 9.51229160e-04 ... 7.04636027e-04\n",
            "  1.86946295e-02 1.00000000e+00]]\n"
          ],
          "name": "stdout"
        },
        {
          "output_type": "execute_result",
          "data": {
            "text/plain": [
              "(5382, 5382)"
            ]
          },
          "metadata": {
            "tags": []
          },
          "execution_count": 124
        }
      ]
    },
    {
      "cell_type": "code",
      "metadata": {
        "colab": {
          "base_uri": "https://localhost:8080/"
        },
        "id": "fRdwhM_scTyf",
        "outputId": "07b70df0-cc73-4f49-ad65-4bee2543a523"
      },
      "source": [
        "# assigning the indices to the movie 'Title' column\n",
        "indices = pd.Series(movie_data.index, index=movie_data[\"Title\"]).drop_duplicates()\n",
        "indices"
      ],
      "execution_count": 125,
      "outputs": [
        {
          "output_type": "execute_result",
          "data": {
            "text/plain": [
              "Title\n",
              "The Player                          0\n",
              "The Honeymooners                    1\n",
              "McHale's Navy                       2\n",
              "Bewitched                           3\n",
              "M*A*S*H                             4\n",
              "                                 ... \n",
              "Return to the Land of Wonders    5377\n",
              "Signed Sealed Delivered          5378\n",
              "Shanghai Calling                 5379\n",
              "A Plague So Pleasant             5380\n",
              "My Date with Drew                5381\n",
              "Length: 5382, dtype: int64"
            ]
          },
          "metadata": {
            "tags": []
          },
          "execution_count": 125
        }
      ]
    },
    {
      "cell_type": "code",
      "metadata": {
        "id": "895E4Nyy8eOf"
      },
      "source": [
        "#define the function which can suggest top 10 similar movies from the dataset based on sililarity\n",
        "\n",
        "def recommend(Movie_Title,sig=cos_similarity):\n",
        "    indx = indices[Movie_Title]\n",
        "    movie_score = list(enumerate(sig[indx]))\n",
        "    movie_score = sorted(movie_score,key = lambda x:x[1],reverse=True)\n",
        "    top_10_similar_movies_indices = movie_score[1:11]\n",
        "    movies_indices = [i[0] for i in top_10_similar_movies_indices]\n",
        "    return movie_data['Title'].iloc[movies_indices]\n",
        "    "
      ],
      "execution_count": 126,
      "outputs": []
    },
    {
      "cell_type": "markdown",
      "metadata": {
        "id": "eQRc2ePxJU05"
      },
      "source": [
        "**Enter the movie name to watch similar movies from the list:**\n"
      ]
    },
    {
      "cell_type": "code",
      "metadata": {
        "colab": {
          "base_uri": "https://localhost:8080/"
        },
        "id": "3p-awbfN9hA6",
        "outputId": "371339d3-bd57-44fc-a53e-92e3a2356fbb"
      },
      "source": [
        "# enter the movie name which you are curently watching so that this system can suggest you top 10 similar content movies\n",
        "Movie_name = str(input(\"Please Enter the movie name which you are currently watching:\"))\n",
        "print(\"Following top 10 movies have similar content:-\")\n",
        "recommend(Movie_name)"
      ],
      "execution_count": 128,
      "outputs": [
        {
          "output_type": "stream",
          "text": [
            "Please Enter the movie name which you are currently watching:A Plague So Pleasant\n",
            "Following top 10 movies have similar content:-\n"
          ],
          "name": "stdout"
        },
        {
          "output_type": "execute_result",
          "data": {
            "text/plain": [
              "4328                     After.Life\n",
              "4578              Diary of the Dead\n",
              "45              Friday Night Lights\n",
              "3041    Metallica Through the Never\n",
              "1645                        Knowing\n",
              "3143                   Philadelphia\n",
              "5058                     Hav Plenty\n",
              "2407               Dawn of the Dead\n",
              "5228                   Jesus People\n",
              "1461                     ParaNorman\n",
              "Name: Title, dtype: object"
            ]
          },
          "metadata": {
            "tags": []
          },
          "execution_count": 128
        }
      ]
    }
  ]
}